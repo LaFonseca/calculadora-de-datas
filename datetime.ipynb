{
 "cells": [
  {
   "cell_type": "code",
   "execution_count": 1,
   "metadata": {},
   "outputs": [
    {
     "name": "stdout",
     "output_type": "stream",
     "text": [
      "Collecting datetime\n",
      "  Downloading DateTime-5.1-py3-none-any.whl (52 kB)\n",
      "                                              0.0/52.1 kB ? eta -:--:--\n",
      "     ---------------------------------------  51.2/52.1 kB 2.6 MB/s eta 0:00:01\n",
      "     -------------------------------------- 52.1/52.1 kB 445.3 kB/s eta 0:00:00\n",
      "Collecting zope.interface (from datetime)\n",
      "  Downloading zope.interface-6.0-cp311-cp311-win_amd64.whl (204 kB)\n",
      "                                              0.0/204.1 kB ? eta -:--:--\n",
      "     ------------------------------------   194.6/204.1 kB 5.9 MB/s eta 0:00:01\n",
      "     -------------------------------------- 204.1/204.1 kB 1.6 MB/s eta 0:00:00\n",
      "Requirement already satisfied: pytz in c:\\users\\andre\\appdata\\local\\programs\\python\\python311\\lib\\site-packages (from datetime) (2023.3)\n",
      "Requirement already satisfied: setuptools in c:\\users\\andre\\appdata\\local\\programs\\python\\python311\\lib\\site-packages (from zope.interface->datetime) (65.5.0)\n",
      "Installing collected packages: zope.interface, datetime\n",
      "Successfully installed datetime-5.1 zope.interface-6.0\n",
      "Note: you may need to restart the kernel to use updated packages.\n"
     ]
    }
   ],
   "source": [
    "%pip install datetime"
   ]
  },
  {
   "cell_type": "code",
   "execution_count": 1,
   "metadata": {},
   "outputs": [
    {
     "name": "stdout",
     "output_type": "stream",
     "text": [
      "2023-06-06\n"
     ]
    }
   ],
   "source": [
    "from datetime import date\n",
    "\n",
    "data_atual = date.today()\n",
    "print(data_atual)"
   ]
  },
  {
   "cell_type": "code",
   "execution_count": 2,
   "metadata": {},
   "outputs": [
    {
     "name": "stdout",
     "output_type": "stream",
     "text": [
      "130 dias para o casamento dos amigos\n"
     ]
    }
   ],
   "source": [
    "data1 = date(2023, 10, 14)\n",
    "data2 = date.today()\n",
    "\n",
    "diferenca = data1 - data2\n",
    "\n",
    "print(diferenca.days, 'dias para o casamento dos amigos')"
   ]
  }
 ],
 "metadata": {
  "kernelspec": {
   "display_name": "Python 3",
   "language": "python",
   "name": "python3"
  },
  "language_info": {
   "codemirror_mode": {
    "name": "ipython",
    "version": 3
   },
   "file_extension": ".py",
   "mimetype": "text/x-python",
   "name": "python",
   "nbconvert_exporter": "python",
   "pygments_lexer": "ipython3",
   "version": "3.11.2"
  },
  "orig_nbformat": 4
 },
 "nbformat": 4,
 "nbformat_minor": 2
}
